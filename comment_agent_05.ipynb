{
 "cells": [
  {
   "cell_type": "markdown",
   "id": "9aea0190",
   "metadata": {},
   "source": [
    "## Node 기반 그래프 방식(수정)"
   ]
  },
  {
   "cell_type": "code",
   "execution_count": 22,
   "id": "a1acac44",
   "metadata": {},
   "outputs": [],
   "source": [
    "import os\n",
    "import json\n",
    "from typing import TypedDict, List\n",
    "from urllib.parse import urlparse, parse_qs\n",
    "from dotenv import load_dotenv\n",
    "from langchain_openai import ChatOpenAI\n",
    "from langchain.prompts import PromptTemplate\n",
    "from langchain_core.output_parsers import StrOutputParser\n",
    "from langgraph.graph import StateGraph, START, END\n"
   ]
  },
  {
   "cell_type": "code",
   "execution_count": 23,
   "id": "85ef3b59",
   "metadata": {},
   "outputs": [],
   "source": [
    "# 상태(state) 정의\n",
    "class CommentState(TypedDict):\n",
    "    url: str\n",
    "    comments: List[str]\n",
    "    summary: str\n",
    "    error: str"
   ]
  },
  {
   "cell_type": "code",
   "execution_count": 24,
   "id": "a0f59d57",
   "metadata": {},
   "outputs": [],
   "source": [
    "# 환경 변수 로드 및 LLM 준비\n",
    "load_dotenv()\n",
    "llm = ChatOpenAI(model=\"gpt-4o\", streaming=True)"
   ]
  },
  {
   "cell_type": "code",
   "execution_count": 25,
   "id": "420b2485",
   "metadata": {},
   "outputs": [],
   "source": [
    "# video_id 추출 함수 (내부용)\n",
    "def extract_video_id(url: str) -> str:\n",
    "    parsed_url = urlparse(url)\n",
    "    if parsed_url.hostname and \"youtube.com\" in parsed_url.hostname:\n",
    "        query_string = parse_qs(parsed_url.query)\n",
    "        return query_string.get(\"v\", [None])[0]\n",
    "    elif parsed_url.hostname and \"youtu.be\" in parsed_url.hostname:\n",
    "        return parsed_url.path[1:]\n",
    "    return None"
   ]
  },
  {
   "cell_type": "code",
   "execution_count": 26,
   "id": "580849ba",
   "metadata": {},
   "outputs": [],
   "source": [
    "# 노드 1: video_id로 댓글 수집\n",
    "def fetch_comments(state: CommentState) -> dict:\n",
    "    import googleapiclient.discovery\n",
    "    url = state.get(\"url\", \"\")\n",
    "    try:\n",
    "        video_id = extract_video_id(url)\n",
    "        if not video_id:\n",
    "            raise ValueError(\"유효한 유튜브 URL에서 Video ID를 추출할 수 없습니다.\")\n",
    "        print(f\"✅ 영상 ID 추출 성공: {video_id}\")\n",
    "        api_key = os.getenv(\"YOUTUBE_API_KEY\")\n",
    "        youtube = googleapiclient.discovery.build(\"youtube\", \"v3\", developerKey=api_key)\n",
    "        request = youtube.commentThreads().list(\n",
    "            part=\"snippet\", videoId=video_id, maxResults=100, order=\"relevance\"\n",
    "        )\n",
    "        response = request.execute()\n",
    "        comments = [\n",
    "            item['snippet']['topLevelComment']['snippet']['textDisplay']\n",
    "            for item in response['items']\n",
    "        ]\n",
    "        if not comments:\n",
    "            raise ValueError(\"댓글이 없습니다.\")\n",
    "        print(f\"✅ 1. 댓글 {len(comments)}개 수집 성공\")\n",
    "        return {\"url\": url, \"comments\": comments, \"summary\": \"\", \"error\": \"\"}\n",
    "    except Exception as e:\n",
    "        error_message = f\"ERROR: 댓글 수집 중 오류 발생 - {e}\"\n",
    "        print(f\"🚨 {error_message}\")\n",
    "        return {\"url\": url, \"comments\": [], \"summary\": \"\", \"error\": error_message}"
   ]
  },
  {
   "cell_type": "code",
   "execution_count": 27,
   "id": "36bc3c59",
   "metadata": {},
   "outputs": [],
   "source": [
    "# 노드 2: 댓글 요약 생성\n",
    "def summarize_comments(state: CommentState) -> dict:\n",
    "    comments = state.get(\"comments\", [])\n",
    "    url = state.get(\"url\", \"\")\n",
    "    video_id = extract_video_id(url)\n",
    "    comments_str = \"\\n- \".join(comments)\n",
    "    prompt = PromptTemplate.from_template(\n",
    "        \"\"\"당신은 주어진 유튜브 댓글들을 분석하여 요약내용을 JSON 형식으로 생성하는 AI 전문가입니다.\n",
    "        댓글은 한국어와 영어가 섞여 있을 수 있습니다. 영어가 있다면 내용을 파악하여 자연스러운 한국어 기반으로 번역하고 요약에 포함시켜야 합니다.\n",
    "\n",
    "        [분석할 댓글 내용]\n",
    "        - {comments_str}\n",
    "\n",
    "        [분석 대상 영상 ID]\n",
    "        {video_id}\n",
    "\n",
    "        ## 아래 JSON 형식을 준수하여 응답해주세요:\n",
    "        - \"description\"은 2문장이 넘어가지 않도록 핵심만을 담아 **개조식**으로 작성, **댓글 내용이 긍정적인지, 부정적인지는 말하지 않아도 됨**\n",
    "        - \"positivie_percentage\"는 긍정적인 키워드와 부정적인 키워드를 모두 분석해서 전체 키워드 중 긍정적인 키워드가 몇퍼센트인지 정확하게 분석해서 정수형으로 답변\n",
    "        - \"key_topics\", \"user_tips\", \"faq\" 모두 핵심만을 담아 2개만 추출\n",
    "        {{\n",
    "          \"overall_sentiment\": {{\"description\": \"📝 전반적인 댓글 내용을 요약 서술\", \"positive_percentage\": \"👍 긍정 반응의 비율(%)\"}},\n",
    "          \"key_topics\": [\"🏷️ 주요 키워드 1\", \"🏷️ 주요 키워드 2\"],\n",
    "          \"user_tips\": [\"💡 사용자 팁 요약 1\", \"💡 사용자 팁 요약 2\"],\n",
    "          \"faq\": [\"❓ 자주 묻는 질문 요약 1\", \"❓ 자주 묻는 질문 요약 2\"]\n",
    "        }}\"\"\"\n",
    "    )\n",
    "    try:\n",
    "        chain = prompt | llm | StrOutputParser()\n",
    "        summary = chain.invoke({\"comments_str\": comments_str, \"video_id\": video_id})\n",
    "        print(f\"✅ 2. 요약 결과 생성 완료\")\n",
    "        return {\"url\": url, \"comments\": comments, \"summary\": summary, \"error\": \"\"}\n",
    "    except Exception as e:\n",
    "        error_message = f\"ERROR: 요약 중 에러 발생 - {e}\"\n",
    "        print(f\"🚨 {error_message}\")\n",
    "        return {\"url\": url, \"comments\": comments, \"summary\": \"\", \"error\": error_message}"
   ]
  },
  {
   "cell_type": "code",
   "execution_count": 28,
   "id": "d4a1e948",
   "metadata": {},
   "outputs": [],
   "source": [
    "# 에러 분기 함수\n",
    "def route_after_fetch(state: CommentState) -> str:\n",
    "    if state.get(\"error\"):\n",
    "        print(\"🚨 오류가 감지되어 프로세스를 종료합니다.\")\n",
    "        return END\n",
    "    else:\n",
    "        print(\"✅ 댓글 수집 성공. 요약 단계로 이동합니다.\")\n",
    "        return \"summarize_comments\""
   ]
  },
  {
   "cell_type": "code",
   "execution_count": 29,
   "id": "5abeec97",
   "metadata": {},
   "outputs": [
    {
     "data": {
      "image/png": "[encoded data removed]",
      "text/plain": [
       "<langgraph.graph.state.CompiledStateGraph object at 0x000001D3B861E4D0>"
      ]
     },
     "execution_count": 29,
     "metadata": {},
     "output_type": "execute_result"
    }
   ],
   "source": [
    "# 그래프(graph) 생성\n",
    "builder = StateGraph(CommentState)\n",
    "builder.add_node(\"fetch_comments\", fetch_comments)\n",
    "builder.add_node(\"summarize_comments\", summarize_comments)\n",
    "\n",
    "builder.add_edge(START, \"fetch_comments\")\n",
    "builder.add_conditional_edges(\"fetch_comments\", route_after_fetch, {\n",
    "    \"summarize_comments\": \"summarize_comments\",\n",
    "    END: END\n",
    "})\n",
    "builder.add_edge(\"summarize_comments\", END)\n",
    "\n",
    "graph = builder.compile()\n",
    "\n",
    "graph"
   ]
  },
  {
   "cell_type": "code",
   "execution_count": 30,
   "id": "c2c9447e",
   "metadata": {},
   "outputs": [],
   "source": [
    "# 결과 출력 함수\n",
    "def run_agent(url: str):\n",
    "    \"\"\"\n",
    "    에이전트를 실행하고 최종 결과를 출력합니다.\n",
    "    - 초기 입력을 'url' 필드에 담아 전달합니다.\n",
    "    - 최종 결과는 'summary' 필드에서 가져옵니다.\n",
    "    - 'error' 필드를 확인하여 오류를 처리합니다.\n",
    "    \"\"\"\n",
    "    inputs = {\"url\": url}\n",
    "    final_state = graph.invoke(inputs)\n",
    "\n",
    "    if final_state.get(\"error\"):\n",
    "        print(\"\\n\" + \"=\"*30)\n",
    "        print(\"❌ 최종 실행 중 오류 발생:\")\n",
    "        print(\"=\"*30)\n",
    "        print(final_state[\"error\"])\n",
    "        return\n",
    "\n",
    "    content = final_state.get(\"summary\", \"\")\n",
    "\n",
    "    print(\"\\n\" + \"=\"*30)\n",
    "    print(\"✅ 최종 요약 (JSON 형식):\")\n",
    "    print(\"=\"*30)\n",
    "\n",
    "    if not content or not content.strip():\n",
    "        print(\"⚠️ 요약 결과가 비어 있습니다. content 값:\", repr(content))\n",
    "        return\n",
    "\n",
    "    # LLM 응답에서 마크다운 코드 블록 제거\n",
    "    if content.strip().startswith(\"```json\"):\n",
    "        start_index = content.find('{')\n",
    "        end_index = content.rfind('}')\n",
    "        if start_index != -1 and end_index != -1:\n",
    "            content = content[start_index : end_index + 1]\n",
    "\n",
    "    try:\n",
    "        parsed_json = json.loads(content)\n",
    "        print(json.dumps(parsed_json, indent=2, ensure_ascii=False))\n",
    "    except json.JSONDecodeError:\n",
    "        print(\"⚠️ JSON 파싱 실패. 원본 content 출력:\")\n",
    "        print(content)"
   ]
  },
  {
   "cell_type": "code",
   "execution_count": 31,
   "id": "86916874",
   "metadata": {},
   "outputs": [
    {
     "name": "stdout",
     "output_type": "stream",
     "text": [
      "✅ 영상 ID 추출 성공: F0VqX7LzyvQ\n",
      "✅ 1. 댓글 100개 수집 성공\n",
      "✅ 댓글 수집 성공. 요약 단계로 이동합니다.\n",
      "✅ 2. 요약 결과 생성 완료\n",
      "\n",
      "==============================\n",
      "✅ 최종 요약 (JSON 형식):\n",
      "==============================\n",
      "{\n",
      "  \"overall_sentiment\": {\n",
      "    \"description\": \"📝 많은 사용자가 스트레칭 루틴의 효과를 높이 평가하며, 동작의 유연성과 개운함을 경험했음을 언급함. 특히 초보자도 쉽게 따라할 수 있는 점과 상세한 설명에 감사함을 나타냄.\",\n",
      "    \"positive_percentage\": 98\n",
      "  },\n",
      "  \"key_topics\": [\n",
      "    \"🏷️ 스트레칭 효과\",\n",
      "    \"🏷️ 초보자 친화적\"\n",
      "  ],\n",
      "  \"user_tips\": [\n",
      "    \"💡 꾸준히 따라하면 유연성과 개운함을 느낄 수 있음\",\n",
      "    \"💡 영상의 상세한 설명을 활용하여 초보자도 쉽게 따라할 수 있음\"\n",
      "  ],\n",
      "  \"faq\": [\n",
      "    \"❓ 스트레칭을 통해 유연성이 향상될 수 있나요?\",\n",
      "    \"❓ 초보자도 쉽게 따라할 수 있는가요?\"\n",
      "  ]\n",
      "}\n"
     ]
    }
   ],
   "source": [
    "# 테스트 실행 예시\n",
    "if __name__ == \"__main__\":\n",
    "    youtube_url = input(\"유튜브 영상 URL을 입력하세요: \")\n",
    "    run_agent(youtube_url)"
   ]
  }
 ],
 "metadata": {
  "kernelspec": {
   "display_name": "youtube-agent",
   "language": "python",
   "name": "python3"
  },
  "language_info": {
   "codemirror_mode": {
    "name": "ipython",
    "version": 3
   },
   "file_extension": ".py",
   "mimetype": "text/x-python",
   "name": "python",
   "nbconvert_exporter": "python",
   "pygments_lexer": "ipython3",
   "version": "3.11.9"
  }
 },
 "nbformat": 4,
 "nbformat_minor": 5
}
