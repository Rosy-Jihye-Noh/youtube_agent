{
 "cells": [
  {
   "cell_type": "code",
   "execution_count": 1,
   "id": "52dc585b",
   "metadata": {},
   "outputs": [],
   "source": [
    "import os\n",
    "from typing import List\n",
    "from langchain_core.tools import tool\n",
    "from langchain_openai import ChatOpenAI, OpenAIEmbeddings\n",
    "from langchain.prompts import PromptTemplate\n",
    "from langchain_core.output_parsers import StrOutputParser\n",
    "from urllib.parse import urlparse, parse_qs\n",
    "from dotenv import load_dotenv\n",
    "import googleapiclient.discovery"
   ]
  },
  {
   "cell_type": "code",
   "execution_count": 2,
   "id": "5b54d143",
   "metadata": {},
   "outputs": [],
   "source": [
    "load_dotenv()\n",
    "llm = ChatOpenAI(model=\"gpt-4o\", streaming=True)\n",
    "small_llm = ChatOpenAI(model=\"gpt-4o-mini\", streaming=True)\n",
    "embedding = OpenAIEmbeddings(model=\"text-embedding-3-large\")"
   ]
  },
  {
   "cell_type": "code",
   "execution_count": 3,
   "id": "f24d3769",
   "metadata": {},
   "outputs": [],
   "source": [
    "@tool\n",
    "def get_youtube_comments_for_url(youtube_url: str, max_results: int = 30) -> dict:\n",
    "    \"\"\"주어진 유튜브 URL에서 영상 ID를 추출하고, 그 영상의 댓글을 인기순으로 최대 30개까지 수집합니다.\"\"\"\n",
    "    def extract_video_id(url):\n",
    "        if not url:\n",
    "            return None\n",
    "        parsed_url = urlparse(url)\n",
    "        if parsed_url.hostname and \"youtube.com\" in parsed_url.hostname:\n",
    "            query_string = parse_qs(parsed_url.query)\n",
    "            return query_string.get(\"v\", [None])[0]\n",
    "        elif parsed_url.hostname and \"youtu.be\" in parsed_url.hostname:\n",
    "            return parsed_url.path[1:]\n",
    "        return None\n",
    "\n",
    "    video_id = extract_video_id(youtube_url)\n",
    "    if not video_id:\n",
    "        return {\"error\": \"유효한 유튜브 URL이 아닙니다.\"}\n",
    "    \n",
    "    try:\n",
    "        api_key = os.getenv(\"YOUTUBE_API_KEY\")\n",
    "        youtube = googleapiclient.discovery.build(\"youtube\", \"v3\", developerKey=api_key)\n",
    "        request = youtube.commentThreads().list(\n",
    "            part=\"snippet\", videoId=video_id, maxResults=100, order=\"relevance\"\n",
    "        )\n",
    "        response = request.execute()\n",
    "        comments = [\n",
    "            item['snippet']['topLevelComment']['snippet']['textDisplay']\n",
    "            for item in response['items']\n",
    "        ]\n",
    "        return {\"video_id\": video_id, \"comments\": comments[:max_results]}\n",
    "    except Exception as e:\n",
    "        return {\"error\": f\"댓글 수집 중 에러 발생: {e}\"}"
   ]
  },
  {
   "cell_type": "code",
   "execution_count": 4,
   "id": "d39d51d7",
   "metadata": {},
   "outputs": [
    {
     "name": "stderr",
     "output_type": "stream",
     "text": [
      "C:\\Users\\KOSALOVE\\AppData\\Local\\Temp\\ipykernel_16640\\345566190.py:5: LangChainDeprecationWarning: The method `BaseTool.__call__` was deprecated in langchain-core 0.1.47 and will be removed in 1.0. Use :meth:`~invoke` instead.\n",
      "  result = get_youtube_comments_for_url(test_url)\n"
     ]
    },
    {
     "name": "stdout",
     "output_type": "stream",
     "text": [
      "\n",
      "총 30개의 댓글 중 상위 5개:\n",
      "1. A fresh stretch routine for you guys! ❤️ Stretching is so important for overall body health. Find time in your day to get a quick stretch on... I promise your body will thank you. Xx - Maddie\n",
      "2. as a 17yo I thought I didn&#39;t need to stretch since I&#39;m still young but oh my goodness, after finishing this video my body feels so much more fluid + less tight than usual, definitely going to try do this every morning!\n",
      "3. To anyone who&#39;s reading this:<br>You are strong. You are beautiful. You are powerful. <br>Remind yourself that working out is not a punishment for what you ate, but a celebration of what your body can do!<br>I hope you have a fantastic day :))\n",
      "4. When she wears her hair down, it&#39;s encouraging - it&#39;s like, ok, I bet I can handle this one! 😁\n",
      "5. I NEVER stretch! I just started today and finished the stretch session and I can feel a complete difference already its crazy! Cant imagine what i&#39;ll feel like in the future doing this everyday!\n"
     ]
    }
   ],
   "source": [
    "#테스트 코드\n",
    "if __name__ == \"__main__\":\n",
    "    test_url = \"https://www.youtube.com/watch?v=itJE4neqDJw\"  # 원하는 영상 URL로 변경 가능\n",
    "\n",
    "    result = get_youtube_comments_for_url(test_url)\n",
    "    if \"comments\" in result:\n",
    "        comments = result[\"comments\"]\n",
    "        print(f\"\\n총 {len(comments)}개의 댓글 중 상위 5개:\")\n",
    "        for i, comment in enumerate(comments[:5], 1):\n",
    "            print(f\"{i}. {comment}\")\n",
    "    else:\n",
    "        print(\"에러:\", result.get(\"error\"))"
   ]
  },
  {
   "cell_type": "code",
   "execution_count": 5,
   "id": "cc6dc7c8",
   "metadata": {},
   "outputs": [],
   "source": [
    "@tool\n",
    "def generate_initial_summary_report(comments: List[str], video_id: str) -> str:\n",
    "    \"\"\"수집된 댓글 목록을 바탕으로 영상에 대한 초기 요약 리포트를 JSON 형식으로 생성합니다.\"\"\"\n",
    "    # 댓글 목록을 하나의 문자열로 합침\n",
    "    comments_str = \"\\n- \".join(comments)\n",
    "    \n",
    "    prompt = PromptTemplate.from_template(\n",
    "        \"\"\"당신은 주어진 유튜브 댓글들을 분석하여 전문적인 요약 리포트를 JSON 형식으로만 생성하는 AI 전문가입니다.\n",
    "        댓글은 한국어와 영어가 섞여 있을 수 있습니다. 영어가 있다면 내용을 파악하여 한국어 기반으로 분석에 포함시켜야 합니다.\n",
    "\n",
    "        [분석할 댓글 내용]\n",
    "        - {comments_str}\n",
    "\n",
    "        [분석 대상 영상 ID]\n",
    "        {video_id}\n",
    "\n",
    "        ## 반드시 아래 JSON 형식을 준수하여 응답해주세요:\n",
    "        {{\n",
    "          \"overall_sentiment\": {{\"description\": \"전반적인 댓글 반응을 요약 서술\", \"positive_percentage\": \"긍정 반응의 비율 (정수만, 예: 85)\"}},\n",
    "          \"key_topics\": [\"주요 키워드 1\", \"주요 키워드 2\", \"주요 키워드 3\", \"주요 키워드 4\"],\n",
    "          \"user_tips\": [\"사용자 팁 요약 1\", \"사용자 팁 요약 2\"],\n",
    "          \"faq\": [\"자주 묻는 질문 요약 1\", \"자주 묻는 질문 요약 2\"]\n",
    "        }}\"\"\"\n",
    "    )\n",
    "    chain = prompt | llm | StrOutputParser()\n",
    "    return chain.invoke({\"comments_str\": comments_str, \"video_id\": video_id})"
   ]
  },
  {
   "cell_type": "code",
   "execution_count": 6,
   "id": "a73fa19d",
   "metadata": {},
   "outputs": [],
   "source": [
    "from langgraph.prebuilt import ToolNode\n",
    "from langchain_core.messages import HumanMessage, SystemMessage\n",
    "from langgraph.graph import StateGraph, START, END\n",
    "from langgraph.prebuilt import tools_condition"
   ]
  },
  {
   "cell_type": "code",
   "execution_count": 7,
   "id": "e4e80101",
   "metadata": {},
   "outputs": [],
   "source": [
    "# 툴 리스트 정의 (이미 정의된 함수들을 툴로 등록)\n",
    "tool_list = [get_youtube_comments_for_url, generate_initial_summary_report]\n",
    "tool_node = ToolNode(tool_list)\n",
    "\n",
    "# LLM에 툴 바인딩\n",
    "llm_with_tools = llm.bind_tools(tool_list)"
   ]
  },
  {
   "cell_type": "code",
   "execution_count": 8,
   "id": "0653fbf1",
   "metadata": {},
   "outputs": [],
   "source": [
    "# 에이전트 함수 정의\n",
    "from typing import TypedDict, List\n",
    "\n",
    "class AgentState(TypedDict):\n",
    "    messages: List\n",
    "\n",
    "def agent(state: AgentState) -> AgentState:\n",
    "    system_msg = SystemMessage(content=\"너는 유튜브 영상 URL을 입력받으면, \"\n",
    "        \"해당 영상의 댓글을 수집하고, 댓글을 분석해 요약 리포트를 생성하는 AI 도우미야. \"\n",
    "        \"필요할 때는 get_youtube_comments_for_url, generate_initial_summary_report 도구를 적절히 사용해. \"\n",
    "        \"질문이 URL과 관련된 경우 반드시 댓글을 수집하고, 요약 리포트를 만들어줘.\")\n",
    "    messages = [system_msg] + state[\"messages\"]\n",
    "    response = llm_with_tools.invoke(messages)\n",
    "    return {\"messages\": state[\"messages\"] + [response]}"
   ]
  },
  {
   "cell_type": "code",
   "execution_count": 9,
   "id": "c4fef1aa",
   "metadata": {},
   "outputs": [
    {
     "data": {
      "image/png": "[encoded data removed]",
      "text/plain": [
       "<langgraph.graph.state.CompiledStateGraph object at 0x000001FCDC367750>"
      ]
     },
     "execution_count": 9,
     "metadata": {},
     "output_type": "execute_result"
    }
   ],
   "source": [
    "# 그래프 빌더 정의\n",
    "from langgraph.graph import MessagesState\n",
    "\n",
    "graph_builder = StateGraph(MessagesState)\n",
    "graph_builder.add_node('agent', agent)\n",
    "graph_builder.add_node('tools', tool_node)\n",
    "\n",
    "graph_builder.add_edge(START, 'agent')\n",
    "graph_builder.add_conditional_edges('agent', tools_condition)\n",
    "graph_builder.add_edge('tools', 'agent')\n",
    "\n",
    "graph = graph_builder.compile()\n",
    "\n",
    "graph"
   ]
  },
  {
   "cell_type": "code",
   "execution_count": 10,
   "id": "8f7c3856",
   "metadata": {},
   "outputs": [
    {
     "name": "stdout",
     "output_type": "stream",
     "text": [
      "================================\u001b[1m Human Message \u001b[0m=================================\n",
      "\n",
      "https://www.youtube.com/watch?v=itJE4neqDJw 이거 댓글 리포트 만들어줘\n",
      "==================================\u001b[1m Ai Message \u001b[0m==================================\n",
      "Tool Calls:\n",
      "  get_youtube_comments_for_url (call_KC4qJGhVm2p0wyS22sH54mXw)\n",
      " Call ID: call_KC4qJGhVm2p0wyS22sH54mXw\n",
      "  Args:\n",
      "    youtube_url: https://www.youtube.com/watch?v=itJE4neqDJw\n",
      "=================================\u001b[1m Tool Message \u001b[0m=================================\n",
      "Name: get_youtube_comments_for_url\n",
      "\n",
      "{\"video_id\": \"itJE4neqDJw\", \"comments\": [\"A fresh stretch routine for you guys! ❤️ Stretching is so important for overall body health. Find time in your day to get a quick stretch on... I promise your body will thank you. Xx - Maddie\", \"as a 17yo I thought I didn&#39;t need to stretch since I&#39;m still young but oh my goodness, after finishing this video my body feels so much more fluid + less tight than usual, definitely going to try do this every morning!\", \"To anyone who&#39;s reading this:<br>You are strong. You are beautiful. You are powerful. <br>Remind yourself that working out is not a punishment for what you ate, but a celebration of what your body can do!<br>I hope you have a fantastic day :))\", \"When she wears her hair down, it&#39;s encouraging - it&#39;s like, ok, I bet I can handle this one! 😁\", \"I NEVER stretch! I just started today and finished the stretch session and I can feel a complete difference already its crazy! Cant imagine what i&#39;ll feel like in the future doing this everyday!\", \"LOVE your short full body stretch. I&#39;ve tried the 15 mins &amp; 5 min ones. Now trying this 12 min stretch. Also, I find it really helpful when you narrate the movement. Like when you move to the other side or change position. So I don&#39;t have to look a the video as much and can focus on the movement.\", \"pls remind me whenever u see this x\", \"3rd attempt I made it though about 9 minutes, healing from a severe nutritional deficiency still, along with pretty severe fibromyalgia.<br><br>Those of you who can do this routine, be grateful. I&#39;ll get there but no way can I get through this, not yet. Im aiming for next week\", \"Love that your dog joined you. My dogs always try and take over my mat when I&#39;m working out or stretching.\", \"Advice from an older fit guy. Dont stop stretching/exercising when you reach 40+. Otherwise, the figure will go quickly. It must become a lifestyle.\", \"I just did this stretching routine as my afternoon study break and I feel soooo much better and energized for another round! Thank you Maddie, you’re amazing ❤️\", \"Im 22 and have been having bad back pain on the left side of my body. Even my toes have been aching. Ive been nervous about it so i started trying to stretch my hip flexors and working my back to get more muscle. Ive been doing your videos for only a week now and i no longer feel that pain. Youre great!!!\", \"I keep doing your 30mins full body stretch routine and it has made my entire body become flexible again and it is like therapy to me!❤️ This new daily stretch video is really great, esp on days when I need a shorter one to do. You keep making me the best version of me bec of your workouts. Thank you, Maddie!🥰\", \"I hurt my back last month shoveling snow. I started this everyday along with some of the beginner workouts. I&#39;m a 49yo carpenter my back hasn&#39;t felt this good in years. Love your videos\", \"It&#39;s like you&#39;re reading my mind every time! Whenever I&#39;m like oh some stretching, some upper body, some back or thigh etc would be good, there enters Maddie! Thank you for everything you do for us!!! We yrully appreciate it!!! Keep going Maddie! You deserve the world!!! ❤️ ❤️ ❤️\", \"I&#39;m leaving this comment here as a sign of committing to stretching every day.<br>I just did it completely and was shocked to see that some of these movements were easier to do a couple of years ago!!<br>I need my flexibility back!!\", \"70 year old guy here with a heartfelt thank you🙏 for a morning program I can actually get through\", \"Doing this stretch until July 13th<br><br>If you guys want me to do other stretch’s before working out to see if they work, let me know before any month on the 13th because every 13th I’m doing a new stretch before working out!<br><br>❌ Day 1: I didn’t find this video until the next day.<br><br>✅ Day 2: Found the video and I did this stretch because my body is aching after a workout I did. I did this only one time today.  My thighs and hamstrings were hurting. It is relaxing and I loved how she reminded us the take deep breaths because I always forget to take deep breaths. When I do my workouts and stretches, the workout was much easier.<br><br>❌ Day 3: I was gonna do this stretch until I had to go somewhere.<br><br>✅ Day 4: I did this stretch once today. My thighs and hamstrings are still hurting. Helped me with my workout like always!<br><br>✅ Day 5: I did this stretch  twice today. My thighs and hamstrings are hurting still and this helped with my aching body. Helped me by having a lot more energy when working out.<br><br>✅ Day 6: I did this stretch once today. My thighs and hamstrings are hurting. Helped me with my workout.\", \"Thank you for not editing out the dog interruption because you know we are all going through the same thing at home! 🤣🤣🤣\", \"As someone who is not flexible, I feel this is doable. Thank you for this!!\", \"I just wanted to say how grateful I am to this channel. I am not a gym type and I prefer training at home. So these short varied workouts are a blessing! I started doing them regularly a couple of months ago and I really see and feel the changes of my body! Thanks for what you are doing. Thanks for keeping me on track!\", \"Perfect stretch time... didn&#39;t know i wanted it ☺️ Coz sometimes i feel the short 5 min stretches are too short and the 20 mins feels like a long commitment 😅...<br>This one&#39;s a sweet balance 🥰<br>This time you heard my unsaid request❤️<br>Lots of love Maddie, you literally are the best 🌻\", \"24 Year old thought I did enough stretching and I’m a martial artists some of these stretches changed my life. From someone who trains in combat sports and weightlifting PLEASE PRIORITIZE YOUR MOBILITY. I’d give so much more respect if you told you stretch everyday for 30 mins rather than you telling me you workout 2 hours everyday. Mobility is everything whats the point of all that muscle if you cant move?\", \"I literally do this stretch every single day. <br><br>One of my favorite things about stretching, and there are many, is when you stretch in the morning-ish, and you feel your body popping and cracking and adjusting for the day 😍<br><br>For sure, there is always a part of me that is like ‘ah man, let me just lay around today or not work out or stretch, or I’ll “do it later” ‘… <br>But there’s another part of me that craves the movement because it will make my body feel better and in less pain.<br>It is what we truly need.<br>We think we know what we need, but often we pick the wrong things!<br><br>It can be kind of challenging sometimes to actually get going with stretching or exercising, but I was just listening to a Rob Dial/mindset mentor episode and he mentioned the importance of momentum. <br><br>How action creates more action, and inaction creates more inaction. <br>Boy ain’t that the truth!!<br>Have a great day all :) <br>Happy Friday!!<br>Now go and make value out of your day💚💙\", \"I love this routine. 12 minutes is the perfect length - it can always fit into the day. It would be great to have a fresh one to mix it up.\", \"This is my fav short stretch routine! A lot of people forget the neck, shoulders, and chest, so I&#39;m glad you incorporated those!\", \"Maddie, gotta say your video have gotten me back to where I needed to be.  I came off a four year slump and decided to start moving again.  I&#39;d get up every morning and my ankles , knees and everything else were killing me.  I found your channel on youtube and started in.  Well 4 months in and I&#39;ve made amazing chages, and I continue to follow your 12 and 15 min stretch every single day.  I appreciate you and what your video had done for me.  Youll never fully know.\", \"Love your videos! I&#39;m 68 and in okay shape but you&#39;re helping me get the old act together. Much thanks for the clarity and calmly inspiring atmosphere!\", \"I really love that you have straight forward short stretch videos that I can add into my day. Sometimes I do the 5 min videos, other times the 12-20 but always it&#39;s a great stretch and I have shared your videos with others. It&#39;s a huge improvement in how I feel when I have been doing these consistently.\", \"It literally feels like I have a new body and spine after I do this stretch. If you have chronic back pain this is a great stretch to do every day. It’s a little intense lol but it’s good stuff ✨.\"]}\n",
      "==================================\u001b[1m Ai Message \u001b[0m==================================\n",
      "Tool Calls:\n",
      "  generate_initial_summary_report (call_PxkMUGwi9Pm0wb2uC60d1doM)\n",
      " Call ID: call_PxkMUGwi9Pm0wb2uC60d1doM\n",
      "  Args:\n",
      "    comments: ['A fresh stretch routine for you guys! ❤️ Stretching is so important for overall body health. Find time in your day to get a quick stretch on... I promise your body will thank you. Xx - Maddie', 'as a 17yo I thought I didn&#39;t need to stretch since I&#39;m still young but oh my goodness, after finishing this video my body feels so much more fluid + less tight than usual, definitely going to try do this every morning!', 'To anyone who&#39;s reading this:<br>You are strong. You are beautiful. You are powerful. <br>Remind yourself that working out is not a punishment for what you ate, but a celebration of what your body can do!<br>I hope you have a fantastic day :))', 'When she wears her hair down, it&#39;s encouraging - it&#39;s like, ok, I bet I can handle this one! 😁', 'I NEVER stretch! I just started today and finished the stretch session and I can feel a complete difference already its crazy! Cant imagine what i&#39;ll feel like in the future doing this everyday!', 'LOVE your short full body stretch. I&#39;ve tried the 15 mins &amp; 5 min ones. Now trying this 12 min stretch. Also, I find it really helpful when you narrate the movement. Like when you move to the other side or change position. So I don&#39;t have to look a the video as much and can focus on the movement.', 'pls remind me whenever u see this x', '3rd attempt I made it though about 9 minutes, healing from a severe nutritional deficiency still, along with pretty severe fibromyalgia.<br><br>Those of you who can do this routine, be grateful. I&#39;ll get there but no way can I get through this, not yet. Im aiming for next week', 'Love that your dog joined you. My dogs always try and take over my mat when I&#39;m working out or stretching.', 'Advice from an older fit guy. Dont stop stretching/exercising when you reach 40+. Otherwise, the figure will go quickly. It must become a lifestyle.', 'I just did this stretching routine as my afternoon study break and I feel soooo much better and energized for another round! Thank you Maddie, you’re amazing ❤️', 'Im 22 and have been having bad back pain on the left side of my body. Even my toes have been aching. Ive been nervous about it so i started trying to stretch my hip flexors and working my back to get more muscle. Ive been doing your videos for only a week now and i no longer feel that pain. Youre great!!!', 'I keep doing your 30mins full body stretch routine and it has made my entire body become flexible again and it is like therapy to me!❤️ This new daily stretch video is really great, esp on days when I need a shorter one to do. You keep making me the best version of me bec of your workouts. Thank you, Maddie!🥰', 'I hurt my back last month shoveling snow. I started this everyday along with some of the beginner workouts. I&#39;m a 49yo carpenter my back hasn&#39;t felt this good in years. Love your videos', 'It&#39;s like you&#39;re reading my mind every time! Whenever I&#39;m like oh some stretching, some upper body, some back or thigh etc would be good, there enters Maddie! Thank you for everything you do for us!!! We yrully appreciate it!!! Keep going Maddie! You deserve the world!!! ❤️ ❤️ ❤️', 'I&#39;m leaving this comment here as a sign of committing to stretching every day.<br>I just did it completely and was shocked to see that some of these movements were easier to do a couple of years ago!!<br>I need my flexibility back!!', '70 year old guy here with a heartfelt thank you🙏 for a morning program I can actually get through', 'Doing this stretch until July 13th<br><br>If you guys want me to do other stretch’s before working out to see if they work, let me know before any month on the 13th because every 13th I’m doing a new stretch before working out!<br><br>❌ Day 1: I didn’t find this video until the next day.<br><br>✅ Day 2: Found the video and I did this stretch because my body is aching after a workout I did. I did this only one time today.  My thighs and hamstrings were hurting. It is relaxing and I loved how she reminded us the take deep breaths because I always forget to take deep breaths. When I do my workouts and stretches, the workout was much easier.<br><br>❌ Day 3: I was gonna do this stretch until I had to go somewhere.<br><br>✅ Day 4: I did this stretch once today. My thighs and hamstrings are still hurting. Helped me with my workout like always!<br><br>✅ Day 5: I did this stretch  twice today. My thighs and hamstrings are hurting still and this helped with my aching body. Helped me by having a lot more energy when working out.<br><br>✅ Day 6: I did this stretch once today. My thighs and hamstrings are hurting. Helped me with my workout.', 'Thank you for not editing out the dog interruption because you know we are all going through the same thing at home! 🤣🤣🤣', 'As someone who is not flexible, I feel this is doable. Thank you for this!!', 'I just wanted to say how grateful I am to this channel. I am not a gym type and I prefer training at home. So these short varied workouts are a blessing! I started doing them regularly a couple of months ago and I really see and feel the changes of my body! Thanks for what you are doing. Thanks for keeping me on track!', 'Perfect stretch time... didn&#39;t know i wanted it ☺️ Coz sometimes i feel the short 5 min stretches are too short and the 20 mins feels like a long commitment 😅...<br>This one&#39;s a sweet balance 🥰<br>This time you heard my unsaid request❤️<br>Lots of love Maddie, you literally are the best 🌻', '24 Year old thought I did enough stretching and I’m a martial artists some of these stretches changed my life. From someone who trains in combat sports and weightlifting PLEASE PRIORITIZE YOUR MOBILITY. I’d give so much more respect if you told you stretch everyday for 30 mins rather than you telling me you workout 2 hours everyday. Mobility is everything whats the point of all that muscle if you cant move?', 'I literally do this stretch every single day. <br><br>One of my favorite things about stretching, and there are many, is when you stretch in the morning-ish, and you feel your body popping and cracking and adjusting for the day 😍<br><br>For sure, there is always a part of me that is like ‘ah man, let me just lay around today or not work out or stretch, or I’ll “do it later” ‘… <br>But there’s another part of me that craves the movement because it will make my body feel better and in less pain.<br>It is what we truly need.<br>We think we know what we need, but often we pick the wrong things!<br><br>It can be kind of challenging sometimes to actually get going with stretching or exercising, but I was just listening to a Rob Dial/mindset mentor episode and he mentioned the importance of momentum. <br><br>How action creates more action, and inaction creates more inaction. <br>Boy ain’t that the truth!!<br>Have a great day all :) <br>Happy Friday!!<br>Now go and make value out of your day💚💙', 'I love this routine. 12 minutes is the perfect length - it can always fit into the day. It would be great to have a fresh one to mix it up.', 'This is my fav short stretch routine! A lot of people forget the neck, shoulders, and chest, so I&#39;m glad you incorporated those!', 'Maddie, gotta say your video have gotten me back to where I needed to be.  I came off a four year slump and decided to start moving again.  I&#39;d get up every morning and my ankles , knees and everything else were killing me.  I found your channel on youtube and started in.  Well 4 months in and I&#39;ve made amazing chages, and I continue to follow your 12 and 15 min stretch every single day.  I appreciate you and what your video had done for me.  Youll never fully know.', 'Love your videos! I&#39;m 68 and in okay shape but you&#39;re helping me get the old act together. Much thanks for the clarity and calmly inspiring atmosphere!', 'I really love that you have straight forward short stretch videos that I can add into my day. Sometimes I do the 5 min videos, other times the 12-20 but always it&#39;s a great stretch and I have shared your videos with others. It&#39;s a huge improvement in how I feel when I have been doing these consistently.', 'It literally feels like I have a new body and spine after I do this stretch. If you have chronic back pain this is a great stretch to do every day. It’s a little intense lol but it’s good stuff ✨.']\n",
      "    video_id: itJE4neqDJw\n",
      "=================================\u001b[1m Tool Message \u001b[0m=================================\n",
      "Name: generate_initial_summary_report\n",
      "\n",
      "```json\n",
      "{\n",
      "  \"overall_sentiment\": {\n",
      "    \"description\": \"전반적으로 댓글들은 매우 긍정적입니다. 많은 사용자들이 스트레칭 루틴의 효과에 대해 감사를 표하고 있으며, 특히 신체 건강과 유연성의 개선을 경험한 사례들이 많습니다.\",\n",
      "    \"positive_percentage\": \"92\"\n",
      "  },\n",
      "  \"key_topics\": [\n",
      "    \"스트레칭의 중요성\",\n",
      "    \"신체 유연성 및 건강 개선\",\n",
      "    \"동영상의 길이와 다양성\",\n",
      "    \"개인적인 경험과 변화\"\n",
      "  ],\n",
      "  \"user_tips\": [\n",
      "    \"매일 꾸준히 스트레칭을 하면 신체 유연성과 건강을 크게 개선할 수 있다.\",\n",
      "    \"스트레칭 중에는 깊은 호흡을 잊지 말고, 가능한 한 다른 활동에 포함시켜라.\"\n",
      "  ],\n",
      "  \"faq\": [\n",
      "    \"이 스트레칭 루틴의 적절한 빈도는?\",\n",
      "    \"어떤 스트레칭이 특정 부위의 통증에 도움이 되는가?\"\n",
      "  ]\n",
      "}\n",
      "```\n",
      "==================================\u001b[1m Ai Message \u001b[0m==================================\n",
      "\n",
      "유튜브 영상 댓글을 기반으로 생성된 요약 리포트를 아래에 제공합니다:\n",
      "\n",
      "### 전반적인 감정\n",
      "- **설명**: 댓글들은 매우 긍정적이며, 많은 사용자들이 스트레칭 루틴의 효과에 대해 감사를 표하고 있습니다. 특히 신체 건강과 유연성의 개선을 경험한 사례들이 많습니다.\n",
      "- **긍정적 비율**: 92%\n",
      "\n",
      "### 주요 주제\n",
      "1. 스트레칭의 중요성\n",
      "2. 신체 유연성 및 건강 개선\n",
      "3. 동영상의 길이와 다양성\n",
      "4. 개인적인 경험과 변화\n",
      "\n",
      "### 사용자 팁\n",
      "- 매일 꾸준히 스트레칭을 하면 신체 유연성과 건강을 크게 개선할 수 있다.\n",
      "- 스트레칭 중에는 깊은 호흡을 잊지 말고, 가능한 한 다른 활동에 포함시켜라.\n",
      "\n",
      "### 자주 묻는 질문\n",
      "- 이 스트레칭 루틴의 적절한 빈도는?\n",
      "- 어떤 스트레칭이 특정 부위의 통증에 도움이 되는가?\n",
      "\n",
      "이 리포트는 사용자들이 스트레칭의 중요성과 그로 인한 신체적 변화를 강조하고 있으며, 많은 사람들이 이 루틴을 통해 긍정적인 변화를 경험하고 있음을 보여줍니다.\n"
     ]
    }
   ],
   "source": [
    "# 실행 예시\n",
    "query = \"https://www.youtube.com/watch?v=itJE4neqDJw 이거 댓글 리포트 만들어줘\"\n",
    "init_state = {\"messages\": [HumanMessage(content=query)]}\n",
    "\n",
    "for chunk in graph.stream(init_state, stream_mode='values'):\n",
    "    chunk['messages'][-1].pretty_print()"
   ]
  },
  {
   "cell_type": "code",
   "execution_count": 12,
   "id": "f93b2231",
   "metadata": {},
   "outputs": [],
   "source": [
    "!pip freeze -> requirments.txt"
   ]
  }
 ],
 "metadata": {
  "kernelspec": {
   "display_name": "youtube-agent",
   "language": "python",
   "name": "python3"
  },
  "language_info": {
   "codemirror_mode": {
    "name": "ipython",
    "version": 3
   },
   "file_extension": ".py",
   "mimetype": "text/x-python",
   "name": "python",
   "nbconvert_exporter": "python",
   "pygments_lexer": "ipython3",
   "version": "3.11.9"
  }
 },
 "nbformat": 4,
 "nbformat_minor": 5
}
