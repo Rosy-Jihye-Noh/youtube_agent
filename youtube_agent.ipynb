{
 "cells": [
  {
   "cell_type": "code",
   "execution_count": null,
   "id": "64f1a707",
   "metadata": {},
   "outputs": [],
   "source": [
    "!pip install youtube-transcript-api\n",
    "!pip install python-dotenv langchain-openai langgraph youtube-transcript-api google-api-python-client"
   ]
  },
  {
   "cell_type": "code",
   "execution_count": 1,
   "id": "7d02ec93",
   "metadata": {},
   "outputs": [
    {
     "data": {
      "text/plain": [
       "True"
      ]
     },
     "execution_count": 1,
     "metadata": {},
     "output_type": "execute_result"
    }
   ],
   "source": [
    "from langchain_core.messages import HumanMessage\n",
    "from dotenv import load_dotenv\n",
    "\n",
    "load_dotenv()"
   ]
  },
  {
   "cell_type": "code",
   "execution_count": 11,
   "id": "b6b80d70",
   "metadata": {},
   "outputs": [
    {
     "ename": "ModuleNotFoundError",
     "evalue": "No module named 'youtube_transcript_api'",
     "output_type": "error",
     "traceback": [
      "\u001b[1;31m---------------------------------------------------------------------------\u001b[0m",
      "\u001b[1;31mModuleNotFoundError\u001b[0m                       Traceback (most recent call last)",
      "Cell \u001b[1;32mIn[11], line 1\u001b[0m\n\u001b[1;32m----> 1\u001b[0m \u001b[38;5;28;01mfrom\u001b[39;00m \u001b[38;5;21;01mscript_agent_02\u001b[39;00m \u001b[38;5;28;01mimport\u001b[39;00m script_agent \n\u001b[0;32m      2\u001b[0m \u001b[38;5;28;01mfrom\u001b[39;00m \u001b[38;5;21;01mcomment_analysis\u001b[39;00m \u001b[38;5;28;01mimport\u001b[39;00m graph \u001b[38;5;28;01mas\u001b[39;00m comment_agent\n",
      "File \u001b[1;32md:\\edu_data\\AI_prompt\\workspace\\ai_agent_work2\\youtube_agent\\script_agent_02.py:13\u001b[0m\n\u001b[0;32m      1\u001b[0m \u001b[38;5;66;03m# %% [markdown]\u001b[39;00m\n\u001b[0;32m      2\u001b[0m \u001b[38;5;66;03m# ### 환경설정\u001b[39;00m\n\u001b[0;32m      3\u001b[0m \n\u001b[1;32m   (...)\u001b[0m\n\u001b[0;32m     11\u001b[0m \n\u001b[0;32m     12\u001b[0m \u001b[38;5;66;03m# %%\u001b[39;00m\n\u001b[1;32m---> 13\u001b[0m \u001b[38;5;28;01mfrom\u001b[39;00m \u001b[38;5;21;01myoutube_transcript_api\u001b[39;00m \u001b[38;5;28;01mimport\u001b[39;00m YouTubeTranscriptApi\n\u001b[0;32m     14\u001b[0m \u001b[38;5;28;01mfrom\u001b[39;00m \u001b[38;5;21;01murllib\u001b[39;00m\u001b[38;5;21;01m.\u001b[39;00m\u001b[38;5;21;01mparse\u001b[39;00m \u001b[38;5;28;01mimport\u001b[39;00m urlparse, parse_qs\n\u001b[0;32m     15\u001b[0m \u001b[38;5;28;01mfrom\u001b[39;00m \u001b[38;5;21;01mlangchain_openai\u001b[39;00m \u001b[38;5;28;01mimport\u001b[39;00m ChatOpenAI\n",
      "\u001b[1;31mModuleNotFoundError\u001b[0m: No module named 'youtube_transcript_api'"
     ]
    }
   ],
   "source": [
    "from script_agent_02 import script_agent \n",
    "from comment_analysis import graph as comment_agent"
   ]
  },
  {
   "cell_type": "code",
   "execution_count": null,
   "id": "a714ddf8",
   "metadata": {},
   "outputs": [
    {
     "name": "stdout",
     "output_type": "stream",
     "text": [
      "==========================================================\n",
      "유튜브 영상 분석을 시작합니다: https://www.youtube.com/watch?v=U6nnxml9GRs\n",
      "==========================================================\n",
      "\n",
      "[1/2] 영상 스크립트 요약을 시작합니다...\n",
      "\n",
      "스크립트 요약 중 오류가 발생했습니다: name 'script_agent' is not defined\n",
      "\n",
      "[2/2] 댓글 분석 리포트를 생성합니다...\n",
      "\n",
      "댓글 분석 중 오류가 발생했습니다: name 'comment_agent' is not defined\n",
      "==========================================================\n",
      "모든 분석이 완료되었습니다.\n",
      "==========================================================\n"
     ]
    }
   ],
   "source": [
    "def main():\n",
    "    \"\"\"\n",
    "    두 개의 에이전트를 순차적으로 실행하여 유튜브 영상의 스크립트 요약과 댓글 분석을 수행합니다.\n",
    "    \"\"\"\n",
    "    # .env 파일에서 환경 변수를 로드합니다. (API 키 등)\n",
    "    load_dotenv()\n",
    "\n",
    "    # 분석할 유튜브 URL을 여기에 입력하세요.\n",
    "    # 제공된 파일들의 테스트 URL과 다른 예시를 사용했습니다.\n",
    "    YOUTUBE_URL = \"https://www.youtube.com/watch?v=U6nnxml9GRs\" \n",
    "\n",
    "    print(\"==========================================================\")\n",
    "    print(f\"유튜브 영상 분석을 시작합니다: {YOUTUBE_URL}\")\n",
    "    print(\"==========================================================\")\n",
    "\n",
    "    # --- 1. 스크립트 요약 에이전트 실행 ---\n",
    "    print(\"\\n[1/2] 영상 스크립트 요약을 시작합니다...\")\n",
    "    try:\n",
    "        # 스크립트 에이전트 입력 형식에 맞게 URL을 전달합니다.\n",
    "        script_input = {\"messages\": [{\"role\": \"user\", \"content\": YOUTUBE_URL}]}\n",
    "        \n",
    "        # 스크립트 에이전트를 실행하고 최종 상태를 받습니다.\n",
    "        final_script_state = script_agent.invoke(script_input)\n",
    "        \n",
    "        # 최종 상태에서 'summary' 키의 값을 가져옵니다.\n",
    "        script_summary = final_script_state.get('summary', '스크립트 요약 결과가 없습니다.')\n",
    "\n",
    "        print(\"\\n--- 스크립트 요약 결과 ---\")\n",
    "        print(script_summary)\n",
    "        print(\"--------------------------\\n\")\n",
    "\n",
    "    except Exception as e:\n",
    "        print(f\"\\n스크립트 요약 중 오류가 발생했습니다: {e}\")\n",
    "\n",
    "\n",
    "    # --- 2. 댓글 분석 에이전트 실행 ---\n",
    "    print(\"\\n[2/2] 댓글 분석 리포트를 생성합니다...\")\n",
    "    try:\n",
    "        # 댓글 분석 에이전트 입력 형식에 맞게 메시지를 생성합니다.\n",
    "        comment_input_message = f\"{YOUTUBE_URL} 영상의 댓글 리포트를 만들어줘\"\n",
    "        comment_input = {\"messages\": [HumanMessage(content=comment_input_message)]}\n",
    "\n",
    "        # 댓글 분석 에이전트는 스트리밍 방식으로 결과를 반환하므로, 마지막 결과를 저장합니다.\n",
    "        final_comment_report = None\n",
    "        for chunk in comment_agent.stream(comment_input, stream_mode='values'):\n",
    "            # 스트림의 마지막 메시지가 최종 결과입니다.\n",
    "            final_comment_report = chunk['messages'][-1].content\n",
    "        \n",
    "        if final_comment_report:\n",
    "            print(\"\\n--- 댓글 분석 리포트 ---\")\n",
    "            print(final_comment_report)\n",
    "            print(\"------------------------\\n\")\n",
    "        else:\n",
    "            print(\"\\n댓글 분석 리포트를 생성하지 못했습니다.\")\n",
    "\n",
    "    except Exception as e:\n",
    "        print(f\"\\n댓글 분석 중 오류가 발생했습니다: {e}\")\n",
    "\n",
    "    print(\"==========================================================\")\n",
    "    print(\"모든 분석이 완료되었습니다.\")\n",
    "    print(\"==========================================================\")\n",
    "\n",
    "\n",
    "if __name__ == \"__main__\":\n",
    "    main()"
   ]
  }
 ],
 "metadata": {
  "kernelspec": {
   "display_name": "youtube-agent",
   "language": "python",
   "name": "python3"
  },
  "language_info": {
   "codemirror_mode": {
    "name": "ipython",
    "version": 3
   },
   "file_extension": ".py",
   "mimetype": "text/x-python",
   "name": "python",
   "nbconvert_exporter": "python",
   "pygments_lexer": "ipython3",
   "version": "3.11.9"
  }
 },
 "nbformat": 4,
 "nbformat_minor": 5
}
